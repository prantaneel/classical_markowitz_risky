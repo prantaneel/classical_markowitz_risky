{
 "cells": [
  {
   "cell_type": "code",
   "execution_count": 1,
   "metadata": {},
   "outputs": [],
   "source": [
    "from yahoo_fin.stock_info import get_data\n",
    "import pandas as pd\n",
    "import numpy as np"
   ]
  },
  {
   "cell_type": "code",
   "execution_count": 96,
   "metadata": {},
   "outputs": [],
   "source": [
    "from numpy import linalg\n",
    "import matplotlib.pyplot as plt"
   ]
  },
  {
   "cell_type": "code",
   "execution_count": 2,
   "metadata": {},
   "outputs": [],
   "source": [
    "def get_market_data_for_stock(start_date, end_date, ticker_symbol):\n",
    "    data_point = get_data(ticker_symbol, \n",
    "                          start_date=start_date, \n",
    "                          end_date=end_date, \n",
    "                          index_as_date = True, \n",
    "                          interval=\"1d\")['close']\n",
    "    return data_point"
   ]
  },
  {
   "cell_type": "code",
   "execution_count": 4,
   "metadata": {},
   "outputs": [],
   "source": [
    "start_date = '2023-01-01'\n",
    "end_date = '2023-08-01'"
   ]
  },
  {
   "cell_type": "code",
   "execution_count": 5,
   "metadata": {
    "slideshow": {
     "slide_type": "slide"
    }
   },
   "outputs": [
    {
     "name": "stdout",
     "output_type": "stream",
     "text": [
      "                  AAPL        MSFT\n",
      "2023-01-03  125.070000  239.580002\n",
      "2023-01-04  126.360001  229.100006\n",
      "2023-01-05  125.019997  222.309998\n",
      "2023-01-06  129.619995  224.929993\n",
      "2023-01-09  130.149994  227.119995\n",
      "...                ...         ...\n",
      "2023-07-25  193.619995  350.980011\n",
      "2023-07-26  194.500000  337.769989\n",
      "2023-07-27  193.220001  330.720001\n",
      "2023-07-28  195.830002  338.369995\n",
      "2023-07-31  196.449997  335.920013\n",
      "\n",
      "[144 rows x 2 columns]\n"
     ]
    }
   ],
   "source": [
    "df_stock = pd.DataFrame()\n",
    "ticker_list = ['AAPL', 'MSFT']\n",
    "for _ticker in ticker_list:\n",
    "    df_stock[_ticker] = get_market_data_for_stock(start_date, end_date, _ticker)\n",
    "print(df_stock)"
   ]
  },
  {
   "cell_type": "code",
   "execution_count": 17,
   "metadata": {},
   "outputs": [],
   "source": [
    "def get_stock_returns(df_stock):\n",
    "    new_df = df_stock.pct_change(1).tail(-1)\n",
    "    return new_df\n",
    "\n",
    "def get_expected_returns(df_stock):\n",
    "    new_df = df_stock.mean()\n",
    "    return new_df\n",
    "\n",
    "def get_covariance_matrix(df_stock):\n",
    "    return df_stock.cov()"
   ]
  },
  {
   "cell_type": "code",
   "execution_count": 24,
   "metadata": {},
   "outputs": [],
   "source": [
    "df_stock_returns = get_stock_returns(df_stock)\n",
    "df_stock_expected_return = get_expected_returns(df_stock_returns)\n",
    "df_stock_cov_matrix = get_covariance_matrix(df_stock_returns)\n"
   ]
  },
  {
   "cell_type": "code",
   "execution_count": 63,
   "metadata": {},
   "outputs": [],
   "source": [
    "mean_return_vector = np.expand_dims(df_stock_expected_return.to_numpy(), axis = 0).T\n",
    "return_cov_matrix = df_stock_cov_matrix.to_numpy()\n",
    "N = mean_return_vector.shape[0]"
   ]
  },
  {
   "cell_type": "markdown",
   "metadata": {},
   "source": [
    "We have the Expected value of the return as well as the covariance matrix. Now we do the markowitz optimisation\n",
    "### Markowitz Min-variance portfolio"
   ]
  },
  {
   "cell_type": "code",
   "execution_count": 89,
   "metadata": {},
   "outputs": [],
   "source": [
    "def calculate_matrix_inv(matrix):\n",
    "    return linalg.inv(matrix)\n",
    "\n",
    "def calculate_scalar_product(X, cov_matrix_inv, Y):\n",
    "    X_T = X.T\n",
    "    ret_param = np.dot(X_T, np.dot(cov_matrix_inv, Y))\n",
    "    return ret_param\n",
    "\n",
    "def get_investment_portfolio(mean_return, cov_matrix, N):\n",
    "    cov_matrix_inv = calculate_matrix_inv(cov_matrix)\n",
    "    vector_of_ones = np.ones((N, 1))\n",
    "    a = calculate_scalar_product(vector_of_ones, cov_matrix_inv, vector_of_ones)\n",
    "    inv_port = 1/a*(np.dot(cov_matrix_inv, vector_of_ones))\n",
    "    return inv_port\n",
    "\n",
    "def get_sf_portfolio(mean_return, cov_matrix, N):\n",
    "    cov_matrix_inv = calculate_matrix_inv(cov_matrix)\n",
    "    vector_of_ones = np.ones((N,1))\n",
    "    a = calculate_scalar_product(vector_of_ones, cov_matrix_inv, vector_of_ones)\n",
    "    b = calculate_scalar_product(mean_return, cov_matrix_inv, vector_of_ones)\n",
    "    J = mean_return - (b / a)*vector_of_ones\n",
    "    norm_of_J = linalg.norm(J)\n",
    "    W = (1 / norm_of_J*norm_of_J)*np.dot(cov_matrix_inv, J)\n",
    "    return W"
   ]
  },
  {
   "cell_type": "code",
   "execution_count": 90,
   "metadata": {},
   "outputs": [],
   "source": [
    "investment_portfolio = get_investment_portfolio(mean_return_vector, return_cov_matrix, N)"
   ]
  },
  {
   "cell_type": "code",
   "execution_count": 91,
   "metadata": {},
   "outputs": [],
   "source": [
    "sf_portfolio = get_sf_portfolio(mean_return_vector, return_cov_matrix, N)"
   ]
  },
  {
   "cell_type": "code",
   "execution_count": 92,
   "metadata": {},
   "outputs": [],
   "source": [
    "vector_of_ones = np.ones((N, 1))\n",
    "cov_matrix_inv = calculate_matrix_inv(return_cov_matrix)\n",
    "a = calculate_scalar_product(vector_of_ones, cov_matrix_inv, vector_of_ones)\n",
    "b = calculate_scalar_product(mean_return_vector, cov_matrix_inv, vector_of_ones)\n",
    "mean_return_of_sf = linalg.norm(mean_return_vector - (b/a)*vector_of_ones)\n",
    "vol_sf = 1\n",
    "vol_if = 1/(a**0.5)\n",
    "mean_return_of_if = b / a"
   ]
  },
  {
   "cell_type": "code",
   "execution_count": 115,
   "metadata": {},
   "outputs": [],
   "source": [
    "return_of_portfolios = []\n",
    "risk_of_portfolios = []\n",
    "for x in range(100000):\n",
    "    # target_m = MIN_VAL + x*increment\n",
    "    # coeff = target_m - b/a\n",
    "    coeff = x / 10000000\n",
    "    F = investment_portfolio + coeff * sf_portfolio\n",
    "    return_of_portfolios.append(float(mean_return_of_if + coeff * mean_return_of_sf))\n",
    "    risk_of_portfolios.append(float((vol_if**2 + coeff**2)**0.5))"
   ]
  },
  {
   "cell_type": "code",
   "execution_count": 116,
   "metadata": {},
   "outputs": [
    {
     "data": {
      "image/png": "[encoded data removed]",
      "text/plain": [
       "<Figure size 640x480 with 1 Axes>"
      ]
     },
     "metadata": {},
     "output_type": "display_data"
    }
   ],
   "source": [
    "plt.plot(risk_of_portfolios, return_of_portfolios)\n",
    "plt.show()"
   ]
  },
  {
   "cell_type": "code",
   "execution_count": null,
   "metadata": {},
   "outputs": [],
   "source": []
  }
 ],
 "metadata": {
  "kernelspec": {
   "display_name": "base",
   "language": "python",
   "name": "python3"
  },
  "language_info": {
   "codemirror_mode": {
    "name": "ipython",
    "version": 3
   },
   "file_extension": ".py",
   "mimetype": "text/x-python",
   "name": "python",
   "nbconvert_exporter": "python",
   "pygments_lexer": "ipython3",
   "version": "3.9.13"
  },
  "orig_nbformat": 4
 },
 "nbformat": 4,
 "nbformat_minor": 2
}
